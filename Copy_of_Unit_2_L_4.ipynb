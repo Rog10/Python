{
  "nbformat": 4,
  "nbformat_minor": 0,
  "metadata": {
    "colab": {
      "name": "Copy of Unit 2_L 4",
      "provenance": [],
      "collapsed_sections": []
    },
    "kernelspec": {
      "name": "python3",
      "display_name": "Python 3"
    },
    "language_info": {
      "name": "python"
    }
  },
  "cells": [
    {
      "cell_type": "code",
      "execution_count": null,
      "metadata": {
        "id": "lviqXXzT5L1V"
      },
      "outputs": [],
      "source": [
        "# Question 1\n",
        "Videogames = ['Call of Duty','Pokemon', 'Elden Ring', 'Mario Kart','Fall Guys', 'Halo']\n"
      ]
    },
    {
      "cell_type": "code",
      "source": [
        "# Question 2\n",
        "Videogames = ['Call of Duty','Pokemon', 'Elden Ring', 'Mario Kart','Fall Guys', 'Halo'] \n",
        "for games in Videogames:\n",
        "  print(games)\n",
        "\n"
      ],
      "metadata": {
        "colab": {
          "base_uri": "https://localhost:8080/"
        },
        "id": "CDNqrGIk5pDp",
        "outputId": "daa4291b-666c-404a-fa2d-e85abe26242c"
      },
      "execution_count": null,
      "outputs": [
        {
          "output_type": "stream",
          "name": "stdout",
          "text": [
            "Call of Duty\n",
            "Pokemon\n",
            "Elden Ring\n",
            "Mario Kart\n",
            "Fall Guys\n",
            "Halo\n"
          ]
        }
      ]
    },
    {
      "cell_type": "markdown",
      "source": [
        ""
      ],
      "metadata": {
        "id": "ezaseyrj7PFe"
      }
    },
    {
      "cell_type": "code",
      "source": [
        "# Question 3\n",
        "Videogames = ['Call of Duty','Pokemon', 'Elden Ring', 'Mario Kart','Fall Guys', 'Halo'] \n",
        "for games in Videogames:\n",
        "  print(games.title()+ \",is one of my favorite Videogames!!\")\n"
      ],
      "metadata": {
        "colab": {
          "base_uri": "https://localhost:8080/"
        },
        "id": "1RUD3Jj87Pc2",
        "outputId": "4db0a444-4a1d-435a-9f0c-bde8a90e5d6a"
      },
      "execution_count": null,
      "outputs": [
        {
          "output_type": "stream",
          "name": "stdout",
          "text": [
            "Call Of Duty,is one of my favorite Videogames!!\n",
            "Pokemon,is one of my favorite Videogames!!\n",
            "Elden Ring,is one of my favorite Videogames!!\n",
            "Mario Kart,is one of my favorite Videogames!!\n",
            "Fall Guys,is one of my favorite Videogames!!\n",
            "Halo,is one of my favorite Videogames!!\n"
          ]
        }
      ]
    },
    {
      "cell_type": "code",
      "source": [
        "# Question 4\n",
        "for num in range(1,11):\n",
        "  print(num)"
      ],
      "metadata": {
        "colab": {
          "base_uri": "https://localhost:8080/"
        },
        "id": "vyyNJmRB7qSj",
        "outputId": "925b97ea-936b-48f7-bdd9-296424e70ad6"
      },
      "execution_count": null,
      "outputs": [
        {
          "output_type": "stream",
          "name": "stdout",
          "text": [
            "1\n",
            "2\n",
            "3\n",
            "4\n",
            "5\n",
            "6\n",
            "7\n",
            "8\n",
            "9\n",
            "10\n"
          ]
        }
      ]
    },
    {
      "cell_type": "code",
      "source": [
        "# Question 5\n",
        "Videogames = [\"Call of Duty\",\"Pokemon\",\"Elden Ring\",\"Mario Kart\",\"Fall Guys\",\"Halo\"] \n",
        "Videogames.sort()\n",
        "print(Videogames)\n"
      ],
      "metadata": {
        "colab": {
          "base_uri": "https://localhost:8080/"
        },
        "id": "GvJh35pn7_6v",
        "outputId": "d84d97bb-3d4c-4089-83f9-0a07c2e33139"
      },
      "execution_count": null,
      "outputs": [
        {
          "output_type": "stream",
          "name": "stdout",
          "text": [
            "['Call of Duty', 'Elden Ring', 'Fall Guys', 'Halo', 'Mario Kart', 'Pokemon']\n"
          ]
        }
      ]
    },
    {
      "cell_type": "code",
      "source": [
        "# Question 6\n",
        "Videogames = [\"Call of Duty\",\"Pokemon\",\"Elden Ring\",\"Mario Kart\",\"Fall Guys\",\"Halo\"] \n",
        "print(Videogames[0:3])\n"
      ],
      "metadata": {
        "colab": {
          "base_uri": "https://localhost:8080/"
        },
        "id": "tMj-yXbB-G7P",
        "outputId": "6fed2e57-81ed-481d-e8d5-846b51664835"
      },
      "execution_count": null,
      "outputs": [
        {
          "output_type": "stream",
          "name": "stdout",
          "text": [
            "['Call of Duty', 'Pokemon', 'Elden Ring']\n"
          ]
        }
      ]
    },
    {
      "cell_type": "code",
      "source": [
        "# Question 7\n",
        "Videogames = [\"Call of Duty\",\"Pokemon\",\"Elden Ring\",\"Mario Kart\",\"Fall Guys\",\"Halo\"] \n",
        "for games in Videogames[-2:]:\n",
        "  print(games.title()) "
      ],
      "metadata": {
        "colab": {
          "base_uri": "https://localhost:8080/"
        },
        "id": "NFKvVWdt-abz",
        "outputId": "d84145ff-2408-4f38-a92f-60f872e9d506"
      },
      "execution_count": null,
      "outputs": [
        {
          "output_type": "stream",
          "name": "stdout",
          "text": [
            "Fall Guys\n",
            "Halo\n"
          ]
        }
      ]
    }
  ]
}