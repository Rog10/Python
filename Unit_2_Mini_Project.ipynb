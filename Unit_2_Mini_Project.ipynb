{
  "nbformat": 4,
  "nbformat_minor": 0,
  "metadata": {
    "colab": {
      "name": "Unit 2 Mini Project.ipynb",
      "provenance": []
    },
    "kernelspec": {
      "name": "python3",
      "display_name": "Python 3"
    },
    "language_info": {
      "name": "python"
    }
  },
  "cells": [
    {
      "cell_type": "code",
      "execution_count": null,
      "metadata": {
        "colab": {
          "base_uri": "https://localhost:8080/"
        },
        "id": "7ri3ALEM49CP",
        "outputId": "2cd465c3-6c97-486e-84b1-ba205ae9dca0"
      },
      "outputs": [
        {
          "output_type": "stream",
          "name": "stdout",
          "text": [
            "Enter a number: 7\n",
            "You picked an odd number.\n"
          ]
        }
      ],
      "source": [
        "num = int(input(\"Enter a number: \"))\n",
        "mod = num % 2\n",
        "if mod > 0:\n",
        "  print(\"You picked an odd number.\")\n",
        "else:\n",
        "  print(\"you picked an even number.\")  \n",
        "if num % 4 == 0:\n",
        "  print(num, \"is a multiple of 4\")"
      ]
    },
    {
      "cell_type": "code",
      "source": [
        ""
      ],
      "metadata": {
        "id": "2MUvMIFZ7PX_"
      },
      "execution_count": null,
      "outputs": []
    }
  ]
}